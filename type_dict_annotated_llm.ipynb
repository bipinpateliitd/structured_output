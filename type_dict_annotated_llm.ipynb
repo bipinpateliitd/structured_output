{
 "cells": [
  {
   "cell_type": "code",
   "execution_count": 4,
   "id": "8a6be6dd",
   "metadata": {},
   "outputs": [],
   "source": [
    "from langchain_core.prompts import ChatPromptTemplate\n",
    "from langchain_openai import ChatOpenAI\n",
    "from dotenv import load_dotenv\n",
    "from typing import TypedDict, Annotated\n"
   ]
  },
  {
   "cell_type": "code",
   "execution_count": 2,
   "id": "ffb6e454",
   "metadata": {},
   "outputs": [
    {
     "data": {
      "text/plain": [
       "True"
      ]
     },
     "execution_count": 2,
     "metadata": {},
     "output_type": "execute_result"
    }
   ],
   "source": [
    "load_dotenv(dotenv_path=\"/home/bipin/Documents/my_learning/langchain/.env\")"
   ]
  },
  {
   "cell_type": "code",
   "execution_count": 3,
   "id": "93035df5",
   "metadata": {},
   "outputs": [],
   "source": [
    "llm = ChatOpenAI(\n",
    "    model=\"gpt-3.5-turbo\",\n",
    "    temperature=0,\n",
    "   max_completion_tokens=50\n",
    ")\n"
   ]
  },
  {
   "cell_type": "code",
   "execution_count": 5,
   "id": "5670e710",
   "metadata": {},
   "outputs": [],
   "source": [
    "class ReviewSummary(TypedDict):\n",
    "    summary: Annotated[str, \"Breief summary of the review\"]\n",
    "    rating: Annotated[int, \"Rating from 1 to 5\"]\n",
    "    sentiment: Annotated[str, \"Return positive, negative or neutral sentiment\"]\n"
   ]
  },
  {
   "cell_type": "code",
   "execution_count": 7,
   "id": "9d679263",
   "metadata": {},
   "outputs": [],
   "source": [
    "review= \"\"\"\n",
    "Bad customer experience and not satisfied with the product due to below reasons\n",
    "1. Too noisy\n",
    "2. Grinder stopped working after 2 months due to poor quality of product.\n",
    "3. Pathetic customer care. After creating a service request no one reach out to me even after 6 days. \n",
    "     Called customer support multiple times but only got reply that I have escalated it and you will get \n",
    "     call from our service person within 24 hours and within 7 days your issue will be resolved.\n",
    "\"\"\""
   ]
  },
  {
   "cell_type": "code",
   "execution_count": 8,
   "id": "37a27eb6",
   "metadata": {},
   "outputs": [
    {
     "name": "stderr",
     "output_type": "stream",
     "text": [
      "/home/bipin/miniconda3/envs/llm/lib/python3.12/site-packages/langchain_openai/chat_models/base.py:1637: UserWarning: Cannot use method='json_schema' with model gpt-3.5-turbo since it doesn't support OpenAI's Structured Output API. You can see supported models here: https://platform.openai.com/docs/guides/structured-outputs#supported-models. To fix this warning, set `method='function_calling'. Overriding to method='function_calling'.\n",
      "  warnings.warn(\n"
     ]
    }
   ],
   "source": [
    "structured_output = llm.with_structured_output(ReviewSummary)"
   ]
  },
  {
   "cell_type": "code",
   "execution_count": 9,
   "id": "e53dc931",
   "metadata": {},
   "outputs": [],
   "source": [
    "output = structured_output.invoke(review)"
   ]
  },
  {
   "cell_type": "code",
   "execution_count": 10,
   "id": "d1f82833",
   "metadata": {},
   "outputs": [
    {
     "data": {
      "text/plain": [
       "'Bad customer experience due to noisy product, grinder stopped working after 2 months, and poor customer care service.'"
      ]
     },
     "execution_count": 10,
     "metadata": {},
     "output_type": "execute_result"
    }
   ],
   "source": [
    "output['summary']"
   ]
  },
  {
   "cell_type": "code",
   "execution_count": 11,
   "id": "9ef6ab6f",
   "metadata": {},
   "outputs": [
    {
     "data": {
      "text/plain": [
       "1"
      ]
     },
     "execution_count": 11,
     "metadata": {},
     "output_type": "execute_result"
    }
   ],
   "source": [
    "output['rating']"
   ]
  },
  {
   "cell_type": "code",
   "execution_count": 12,
   "id": "28abb62e",
   "metadata": {},
   "outputs": [
    {
     "data": {
      "text/plain": [
       "'negative'"
      ]
     },
     "execution_count": 12,
     "metadata": {},
     "output_type": "execute_result"
    }
   ],
   "source": [
    "output['sentiment']"
   ]
  },
  {
   "cell_type": "code",
   "execution_count": null,
   "id": "a0f1741d",
   "metadata": {},
   "outputs": [],
   "source": []
  }
 ],
 "metadata": {
  "kernelspec": {
   "display_name": "llm",
   "language": "python",
   "name": "python3"
  },
  "language_info": {
   "codemirror_mode": {
    "name": "ipython",
    "version": 3
   },
   "file_extension": ".py",
   "mimetype": "text/x-python",
   "name": "python",
   "nbconvert_exporter": "python",
   "pygments_lexer": "ipython3",
   "version": "3.12.0"
  }
 },
 "nbformat": 4,
 "nbformat_minor": 5
}
