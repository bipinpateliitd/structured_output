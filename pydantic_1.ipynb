{
 "cells": [
  {
   "cell_type": "code",
   "execution_count": 23,
   "id": "73946f3c",
   "metadata": {},
   "outputs": [
    {
     "data": {
      "text/plain": [
       "True"
      ]
     },
     "execution_count": 23,
     "metadata": {},
     "output_type": "execute_result"
    }
   ],
   "source": [
    "from pydantic import BaseModel, Field, EmailStr\n",
    "from typing import Optional, List\n",
    "from dotenv import load_dotenv\n",
    "load_dotenv()\n"
   ]
  },
  {
   "cell_type": "code",
   "execution_count": 31,
   "id": "38b6e861",
   "metadata": {},
   "outputs": [],
   "source": [
    "class Student(BaseModel):\n",
    "    name: Optional[str] =None\n",
    "    age: Optional[int] = None\n",
    "    email:EmailStr\n",
    "    cgpa:float = Field(gt=0, le=10,default=5.0,description=\"CGPA must be between 0 and 10\")\n"
   ]
  },
  {
   "cell_type": "code",
   "execution_count": 32,
   "id": "7ddd0142",
   "metadata": {},
   "outputs": [],
   "source": [
    "new_student = {\"name\":\"bipin\", \"email\" :\"abc@gmail.com\", \"cgpa\":\"7\"}"
   ]
  },
  {
   "cell_type": "code",
   "execution_count": 33,
   "id": "1c71a64d",
   "metadata": {},
   "outputs": [
    {
     "name": "stdout",
     "output_type": "stream",
     "text": [
      "name='bipin' age=None email='abc@gmail.com' cgpa=7.0\n"
     ]
    }
   ],
   "source": [
    "student = Student(**new_student)\n",
    "print(student)"
   ]
  },
  {
   "cell_type": "code",
   "execution_count": 35,
   "id": "a9d78b94",
   "metadata": {},
   "outputs": [],
   "source": [
    "dict = student.model_dump()"
   ]
  },
  {
   "cell_type": "code",
   "execution_count": 36,
   "id": "eead0894",
   "metadata": {},
   "outputs": [
    {
     "data": {
      "text/plain": [
       "{'name': 'bipin', 'age': None, 'email': 'abc@gmail.com', 'cgpa': 7.0}"
      ]
     },
     "execution_count": 36,
     "metadata": {},
     "output_type": "execute_result"
    }
   ],
   "source": [
    "dict"
   ]
  },
  {
   "cell_type": "code",
   "execution_count": null,
   "id": "9895ef73",
   "metadata": {},
   "outputs": [],
   "source": [
    "class Data_Extraction(BaseModel):\n",
    "    name: str\n",
    "    age: int\n",
    "    id_type:str = Field(description=\"id_type\", \"Return the type of ID (e.g., passport, Aadhaar, driving license, pancard, voterid, company id, school id, other)\")\n",
    "    id_number: Optional[str]\n",
    "    address: Optional[str]\n",
    "    phone_number: Optional[int]\n",
    "    email: Optional[str]\n",
    "    date_of_birth: Optional[str]\n"
   ]
  },
  {
   "cell_type": "code",
   "execution_count": null,
   "id": "32e82ba8",
   "metadata": {},
   "outputs": [],
   "source": [
    "class Data_Extraction(BaseModel):\n",
    "    name: str = Field(description=\"name\", \"Name of the person\")\n",
    "    age: int = Field(description=\"age\", \"Age of the person\")\n",
    "    id_type:str = Field(description=\"id_type\", \"Return the type of ID (e.g., passport, Aadhaar, driving license, pancard, voterid, company id, school id, other)\")\n",
    "    id_number: Optional[str] = Field(description=\"id_number\", \"ID number of the person\")\n",
    "    address: Optional[str]  = Field(description=\"address\", \"Address of the person\")\n",
    "    phone_number: Optional[int] = Field(description=\"phone_number\", \"Phone number of the person\")\n",
    "    email: Optional[str]    = Field(description=\"email\", \"Email address of the person\")\n",
    "    date_of_birth: Optional[str]    = Field(description=\"date_of_birth\", \"Date of birth of the person\")     "
   ]
  },
  {
   "cell_type": "code",
   "execution_count": null,
   "id": "dcff0c1f",
   "metadata": {},
   "outputs": [],
   "source": []
  }
 ],
 "metadata": {
  "kernelspec": {
   "display_name": "llm",
   "language": "python",
   "name": "python3"
  },
  "language_info": {
   "codemirror_mode": {
    "name": "ipython",
    "version": 3
   },
   "file_extension": ".py",
   "mimetype": "text/x-python",
   "name": "python",
   "nbconvert_exporter": "python",
   "pygments_lexer": "ipython3",
   "version": "3.12.0"
  }
 },
 "nbformat": 4,
 "nbformat_minor": 5
}
