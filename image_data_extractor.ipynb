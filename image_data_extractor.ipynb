{
 "cells": [
  {
   "cell_type": "code",
   "execution_count": null,
   "id": "948e767a",
   "metadata": {},
   "outputs": [],
   "source": [
    "from langchain_core.messages import HumanMessage\n",
    "from langchain_openai import ChatOpenAI\n",
    "from dotenv import load_dotenv\n",
    "import base64\n",
    "from pydantic import BaseModel, Field\n",
    "from typing import List, Optional\n",
    "\n",
    "from langchain_core.output_parsers import StrOutputParser\n",
    "load_dotenv()\n",
    "\n",
    "\n",
    "llm1 = ChatOpenAI(model=\"gpt-4o-mini\")\n"
   ]
  },
  {
   "cell_type": "code",
   "execution_count": null,
   "id": "e4248e62",
   "metadata": {},
   "outputs": [],
   "source": []
  },
  {
   "cell_type": "code",
   "execution_count": 2,
   "id": "09e1874f",
   "metadata": {},
   "outputs": [],
   "source": [
    "def load_png_as_base64(file_path):\n",
    "    with open(file_path, \"rb\") as image_file:\n",
    "        encoded_string = base64.b64encode(image_file.read())\n",
    "        return encoded_string.decode(\"utf-8\")"
   ]
  },
  {
   "cell_type": "code",
   "execution_count": 3,
   "id": "a4833868",
   "metadata": {},
   "outputs": [],
   "source": [
    "path =\"/home/bipin/Documents/Genai_class/langchain/strucured_output/document/adh.png\"\n",
    "image_url = load_png_as_base64(path)\n"
   ]
  },
  {
   "cell_type": "code",
   "execution_count": 4,
   "id": "1c8cd914",
   "metadata": {},
   "outputs": [],
   "source": [
    "message1 = HumanMessage(\n",
    "    content=[\n",
    "        {\"type\": \"text\", \"text\": \"Extract the text from the  image\"},\n",
    "        {\n",
    "            \"type\": \"image_url\",\n",
    "            \"image_url\": {\"url\": f\"data:image/jpeg;base64,{image_url}\"},\n",
    "        },\n",
    "    ],\n",
    ")\n"
   ]
  },
  {
   "cell_type": "code",
   "execution_count": 5,
   "id": "c0942a00",
   "metadata": {},
   "outputs": [],
   "source": [
    "from pprint import pprint"
   ]
  },
  {
   "cell_type": "code",
   "execution_count": null,
   "id": "dec0adf2",
   "metadata": {},
   "outputs": [],
   "source": [
    "output1= llm1.invoke([message1])"
   ]
  },
  {
   "cell_type": "code",
   "execution_count": 8,
   "id": "5de772a9",
   "metadata": {},
   "outputs": [
    {
     "name": "stdout",
     "output_type": "stream",
     "text": [
      "AIMessage(content='Here is the extracted text from the image:\\n\\n---\\n\\n**Front:**\\n\\nआधार सरकार  \\nGovernment of India  \\n\\nमेराज खान  \\nMERAJ KHAN  \\nपिता : सुधन खान  \\nFather: Sudhan Khan  \\nजन्म तिथि / DOB: 12/12/1988  \\nलिंग / Male  \\n\\n2943 6593 3461  \\n\\nआधार - आम आदमी का अधिकार  \\n\\n---\\n\\n**Back:**\\n\\nआधार  \\nUnique Identification Authority of India  \\n\\nपता: सराय दान शाह, कटरौली,  \\nAddress: saray dan shah, KATRAULI,  \\nपूरा दुर्गी, फ़ूलपुर, इलाहाबाद, उत्तर प्रदेश, 212402  \\nPoore Durgi, Phoolpur, Allahabad, Uttar Pradesh, 212402  \\n\\n2943 6593 3461  \\n\\n1800 1947  \\nhelp@uidai.gov.in  \\n\\n--- \\n\\nLet me know if you need further assistance!', additional_kwargs={'refusal': None}, response_metadata={'token_usage': {'completion_tokens': 202, 'prompt_tokens': 14181, 'total_tokens': 14383, 'completion_tokens_details': {'accepted_prediction_tokens': 0, 'audio_tokens': 0, 'reasoning_tokens': 0, 'rejected_prediction_tokens': 0}, 'prompt_tokens_details': {'audio_tokens': 0, 'cached_tokens': 0}}, 'model_name': 'gpt-4o-mini-2024-07-18', 'system_fingerprint': 'fp_f7d56a8a2c', 'id': 'chatcmpl-BLiiquAYKk36Mwlh8VPgnWtopnQo5', 'finish_reason': 'stop', 'logprobs': None}, id='run-1fc9b536-d19e-4fa7-8753-7eb9a36fb66d-0', usage_metadata={'input_tokens': 14181, 'output_tokens': 202, 'total_tokens': 14383, 'input_token_details': {'audio': 0, 'cache_read': 0}, 'output_token_details': {'audio': 0, 'reasoning': 0}})\n"
     ]
    }
   ],
   "source": [
    "pprint(output1)"
   ]
  },
  {
   "cell_type": "code",
   "execution_count": 9,
   "id": "00f9f222",
   "metadata": {},
   "outputs": [
    {
     "name": "stdout",
     "output_type": "stream",
     "text": [
      "('Here is the extracted text from the image:\\n'\n",
      " '\\n'\n",
      " '---\\n'\n",
      " '\\n'\n",
      " '**Front:**\\n'\n",
      " '\\n'\n",
      " 'आधार सरकार  \\n'\n",
      " 'Government of India  \\n'\n",
      " '\\n'\n",
      " 'मेराज खान  \\n'\n",
      " 'MERAJ KHAN  \\n'\n",
      " 'पिता : सुधन खान  \\n'\n",
      " 'Father: Sudhan Khan  \\n'\n",
      " 'जन्म तिथि / DOB: 12/12/1988  \\n'\n",
      " 'लिंग / Male  \\n'\n",
      " '\\n'\n",
      " '2943 6593 3461  \\n'\n",
      " '\\n'\n",
      " 'आधार - आम आदमी का अधिकार  \\n'\n",
      " '\\n'\n",
      " '---\\n'\n",
      " '\\n'\n",
      " '**Back:**\\n'\n",
      " '\\n'\n",
      " 'आधार  \\n'\n",
      " 'Unique Identification Authority of India  \\n'\n",
      " '\\n'\n",
      " 'पता: सराय दान शाह, कटरौली,  \\n'\n",
      " 'Address: saray dan shah, KATRAULI,  \\n'\n",
      " 'पूरा दुर्गी, फ़ूलपुर, इलाहाबाद, उत्तर प्रदेश, 212402  \\n'\n",
      " 'Poore Durgi, Phoolpur, Allahabad, Uttar Pradesh, 212402  \\n'\n",
      " '\\n'\n",
      " '2943 6593 3461  \\n'\n",
      " '\\n'\n",
      " '1800 1947  \\n'\n",
      " 'help@uidai.gov.in  \\n'\n",
      " '\\n'\n",
      " '--- \\n'\n",
      " '\\n'\n",
      " 'Let me know if you need further assistance!')\n"
     ]
    }
   ],
   "source": [
    "message2 = StrOutputParser().invoke(output1)\n",
    "pprint(message2)\n"
   ]
  },
  {
   "cell_type": "code",
   "execution_count": null,
   "id": "22f7cf09",
   "metadata": {},
   "outputs": [],
   "source": []
  },
  {
   "cell_type": "code",
   "execution_count": null,
   "id": "cd80a75b",
   "metadata": {},
   "outputs": [],
   "source": []
  },
  {
   "cell_type": "code",
   "execution_count": null,
   "id": "4c859415",
   "metadata": {},
   "outputs": [],
   "source": []
  },
  {
   "cell_type": "code",
   "execution_count": null,
   "id": "4df2023b",
   "metadata": {},
   "outputs": [],
   "source": []
  },
  {
   "cell_type": "code",
   "execution_count": 11,
   "id": "1ed6fed9",
   "metadata": {},
   "outputs": [],
   "source": [
    "llm2= ChatOpenAI(model=\"gpt-4o-mini\")\n"
   ]
  },
  {
   "cell_type": "code",
   "execution_count": 10,
   "id": "bfa8be8f",
   "metadata": {},
   "outputs": [],
   "source": [
    "class structured_id_output(BaseModel):\n",
    "    \" This extract the information from the image\"\n",
    "    \n",
    "    name: str = Field(description=\"Name of the person\")\n",
    "    age: Optional[str] = Field(description=\"Age of the person\",default=None)\n",
    "    address: Optional[str] = Field(description=\"Address of the person\",default=None)\n",
    "    phone_number: Optional[int] = Field(description=\"Phone number of the person\",default=None)\n",
    "    email: Optional[str] = Field(description=\"Email of the person\",default=None)\n",
    "    gender: Optional[str] = Field(description=\"Gender of the person\",default=None)\n",
    "    id_type: Optional[str] = Field(description=\"Type of ID either passport, Adhhar, driving license, pancard,voterid, company id, school id, other\",default=None)\n",
    "    id_number: Optional[int] = Field(description=\"ID number\", default=None)\n",
    "    id_expiry_date: Optional[int] = Field(description=\"ID expiry date\",default=None)\n",
    "    id_issuer: Optional[str] = Field(description=\"ID issuer\",default=None)\n",
    " "
   ]
  },
  {
   "cell_type": "code",
   "execution_count": 13,
   "id": "a840fe1b",
   "metadata": {},
   "outputs": [],
   "source": [
    "llm2_structured = llm2.with_structured_output(structured_id_output)"
   ]
  },
  {
   "cell_type": "code",
   "execution_count": null,
   "id": "eef0625a",
   "metadata": {},
   "outputs": [],
   "source": [
    "final_output = llm2_structured.invoke(message2)"
   ]
  },
  {
   "cell_type": "code",
   "execution_count": 15,
   "id": "b2911165",
   "metadata": {},
   "outputs": [
    {
     "name": "stdout",
     "output_type": "stream",
     "text": [
      "structured_id_output(name='MERAJ KHAN', age='34', address='saray dan shah, KATRAULI, Poore Durgi, Phoolpur, Allahabad, Uttar Pradesh, 212402', phone_number=18001947, email='help@uidai.gov.in', gender='Male', id_type='आधार', id_number=294365933461, id_expiry_date=None, id_issuer='Unique Identification Authority of India')\n"
     ]
    }
   ],
   "source": [
    "pprint(final_output)"
   ]
  },
  {
   "cell_type": "code",
   "execution_count": 18,
   "id": "c63a598b",
   "metadata": {},
   "outputs": [],
   "source": [
    "final_output_dict = final_output.model_dump()"
   ]
  },
  {
   "cell_type": "code",
   "execution_count": 19,
   "id": "c5ebaaf5",
   "metadata": {},
   "outputs": [
    {
     "data": {
      "text/plain": [
       "{'name': 'MERAJ KHAN',\n",
       " 'age': '34',\n",
       " 'address': 'saray dan shah, KATRAULI, Poore Durgi, Phoolpur, Allahabad, Uttar Pradesh, 212402',\n",
       " 'phone_number': 18001947,\n",
       " 'email': 'help@uidai.gov.in',\n",
       " 'gender': 'Male',\n",
       " 'id_type': 'आधार',\n",
       " 'id_number': 294365933461,\n",
       " 'id_expiry_date': None,\n",
       " 'id_issuer': 'Unique Identification Authority of India'}"
      ]
     },
     "execution_count": 19,
     "metadata": {},
     "output_type": "execute_result"
    }
   ],
   "source": [
    "final_output_dict"
   ]
  },
  {
   "cell_type": "code",
   "execution_count": null,
   "id": "3fc8757c",
   "metadata": {},
   "outputs": [],
   "source": []
  },
  {
   "cell_type": "code",
   "execution_count": null,
   "id": "2ada8009",
   "metadata": {},
   "outputs": [],
   "source": []
  },
  {
   "cell_type": "code",
   "execution_count": null,
   "id": "498b73a4",
   "metadata": {},
   "outputs": [],
   "source": []
  },
  {
   "cell_type": "code",
   "execution_count": null,
   "id": "64a44c6c",
   "metadata": {},
   "outputs": [],
   "source": [
    "!ollama list"
   ]
  },
  {
   "cell_type": "code",
   "execution_count": null,
   "id": "4ec66eac",
   "metadata": {},
   "outputs": [],
   "source": [
    "from langchain_ollama import ChatOllama\n",
    "llm2 = ChatOllama(model=\"gemma3:1b\")"
   ]
  },
  {
   "cell_type": "code",
   "execution_count": null,
   "id": "d530e734",
   "metadata": {},
   "outputs": [],
   "source": [
    "structured_output_schema = llm2.with_structured_output(structured_id_output)\n",
    "from pprint import pprint \n",
    "output= structured_output_schema.invoke(parsed_response)\n",
    "pprint(output)\n"
   ]
  },
  {
   "cell_type": "code",
   "execution_count": null,
   "id": "5a6988a8",
   "metadata": {},
   "outputs": [],
   "source": []
  }
 ],
 "metadata": {
  "kernelspec": {
   "display_name": "llm",
   "language": "python",
   "name": "python3"
  },
  "language_info": {
   "codemirror_mode": {
    "name": "ipython",
    "version": 3
   },
   "file_extension": ".py",
   "mimetype": "text/x-python",
   "name": "python",
   "nbconvert_exporter": "python",
   "pygments_lexer": "ipython3",
   "version": "3.12.0"
  }
 },
 "nbformat": 4,
 "nbformat_minor": 5
}
