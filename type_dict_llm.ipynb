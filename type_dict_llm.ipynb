{
 "cells": [
  {
   "cell_type": "code",
   "execution_count": null,
   "id": "83d38bc0",
   "metadata": {},
   "outputs": [],
   "source": [
    "from langchain_core.prompts import ChatPromptTemplate\n",
    "from langchain_openai\n",
    "from dotenv import load_dotenv\n",
    "from typing import TypedDict"
   ]
  },
  {
   "cell_type": "code",
   "execution_count": 5,
   "id": "49d15a08",
   "metadata": {},
   "outputs": [
    {
     "data": {
      "text/plain": [
       "True"
      ]
     },
     "execution_count": 5,
     "metadata": {},
     "output_type": "execute_result"
    }
   ],
   "source": [
    "load_dotenv(dotenv_path=\"/home/bipin/Documents/my_learning/langchain/.env\")"
   ]
  },
  {
   "cell_type": "code",
   "execution_count": null,
   "id": "0fb4b370",
   "metadata": {},
   "outputs": [],
   "source": [
    "llm = ope"
   ]
  }
 ],
 "metadata": {
  "kernelspec": {
   "display_name": "llm",
   "language": "python",
   "name": "python3"
  },
  "language_info": {
   "codemirror_mode": {
    "name": "ipython",
    "version": 3
   },
   "file_extension": ".py",
   "mimetype": "text/x-python",
   "name": "python",
   "nbconvert_exporter": "python",
   "pygments_lexer": "ipython3",
   "version": "3.12.0"
  }
 },
 "nbformat": 4,
 "nbformat_minor": 5
}
